{
  "nbformat": 4,
  "nbformat_minor": 0,
  "metadata": {
    "colab": {
      "name": "a-star.ipynb",
      "version": "0.3.2",
      "provenance": [],
      "toc_visible": true,
      "include_colab_link": true
    },
    "kernelspec": {
      "name": "python3",
      "display_name": "Python 3"
    }
  },
  "cells": [
    {
      "cell_type": "markdown",
      "metadata": {
        "id": "view-in-github",
        "colab_type": "text"
      },
      "source": [
        "<a href=\"https://colab.research.google.com/github/jdmiranda/ai_notebooks/blob/master/a_star.ipynb\" target=\"_parent\"><img src=\"https://colab.research.google.com/assets/colab-badge.svg\" alt=\"Open In Colab\"/></a>"
      ]
    },
    {
      "metadata": {
        "id": "OjFaxlin_wIO",
        "colab_type": "text"
      },
      "cell_type": "markdown",
      "source": [
        "# Robot Navigation Problem\n",
        "# Uses Algorithm A* to find the shortest path around obstacles"
      ]
    },
    {
      "metadata": {
        "id": "ONUIcbDd9-7R",
        "colab_type": "code",
        "colab": {}
      },
      "cell_type": "code",
      "source": [
        "import heapq  # for priority queue\n",
        "from time import time # for run times\n",
        "import matplotlib.pyplot as plt # for displaying solutions\n",
        "import pandas as pd # to save results"
      ],
      "execution_count": 0,
      "outputs": []
    },
    {
      "metadata": {
        "id": "OzMkqB4F_u43",
        "colab_type": "code",
        "colab": {}
      },
      "cell_type": "code",
      "source": [
        "dataDir, outDir = './', './'\n",
        "#dataDir, outDir = 'data/', 'out/' # directories for input/output files\n",
        "\n",
        "#inputFiles = ['robot'+str(i)+'.txt' for i in range(1,16)] # input files\n",
        "inputFiles = ['robot1.txt']"
      ],
      "execution_count": 0,
      "outputs": []
    },
    {
      "metadata": {
        "id": "939kegyW_oAy",
        "colab_type": "code",
        "colab": {}
      },
      "cell_type": "code",
      "source": [
        "def readProblem(filename):\n",
        "    \"\"\"Reads input file and returns start, goal, and\n",
        "    a dictionary containing polygons as a list of vertices\"\"\"\n",
        "    f = open(filename)\n",
        "    start = tuple([int(v) for v in f.readline().split(',')])\n",
        "    goal = tuple([int(v) for v in f.readline().split(',')])\n",
        "    nPoly = int(f.readline())\n",
        "    polygon = {}\n",
        "    for i in range(nPoly): # read vertices of polygons\n",
        "        line = [int(v) for v in f.readline().split(',')]\n",
        "        polygon[i+1] = [(line[2*j+1],line[2*j+2]) for j in range(line[0])]\n",
        "        assert(line[0] == len(polygon[i+1])) # correct number of vertices \n",
        "    assert(nPoly == len(polygon)) # correct number of polygons\n",
        "    return start, goal, polygon"
      ],
      "execution_count": 0,
      "outputs": []
    },
    {
      "metadata": {
        "id": "VN0Bh4jr-pGi",
        "colab_type": "code",
        "colab": {}
      },
      "cell_type": "code",
      "source": [
        "def getStates(start, goal, polygon):\n",
        "    \"\"\"Returns the list of states in the problem:\n",
        "    'start', 'goal', and the vertices of the polygons are states\"\"\"\n",
        "    states = [start, goal]\n",
        "    for p in polygon: states += polygon[p]\n",
        "    return states"
      ],
      "execution_count": 0,
      "outputs": []
    },
    {
      "metadata": {
        "id": "8ZeBA9Gh_NUL",
        "colab_type": "text"
      },
      "cell_type": "markdown",
      "source": [
        "\"Functions to compute distance between states:\""
      ]
    },
    {
      "metadata": {
        "id": "jTx_JKwC-pJO",
        "colab_type": "code",
        "colab": {}
      },
      "cell_type": "code",
      "source": [
        "def distance(point1, point2):\n",
        "    \"\"\"Returns distance between two points\"\"\"\n",
        "    return ((point1[0]-point2[0])**2+(point1[1]-point2[1])**2)**0.5"
      ],
      "execution_count": 0,
      "outputs": []
    },
    {
      "metadata": {
        "id": "L7wYR-P3_U3Q",
        "colab_type": "text"
      },
      "cell_type": "markdown",
      "source": [
        "\"Utilities used in getSucessors function\""
      ]
    },
    {
      "metadata": {
        "id": "6iysZvQl-pLl",
        "colab_type": "code",
        "colab": {}
      },
      "cell_type": "code",
      "source": [
        "def chords(poly):\n",
        "    \"\"\"Returns list of chords that prevent movement through a polygon\n",
        "    A polygon with n vertices has n chords (quadrilateral has 2 chords)\n",
        "    A line segment joining vertices i and i+2 is a chord\"\"\"\n",
        "    n = len(poly)\n",
        "    if n == 4: return [(poly[0], poly[2]), (poly[1], poly[3])] # quadrilateral\n",
        "    return [(poly[i%n], poly[(i+2)%n]) for i in range(n)]"
      ],
      "execution_count": 0,
      "outputs": []
    },
    {
      "metadata": {
        "id": "toSg9cJj-pTn",
        "colab_type": "code",
        "colab": {}
      },
      "cell_type": "code",
      "source": [
        "def generateAllChords(polygon):\n",
        "    \"\"\"Returns list of line segments that prevent movement through polygons\"\"\"\n",
        "    chordList = []\n",
        "    for p in polygon: chordList += chords(polygon[p])\n",
        "    return chordList"
      ],
      "execution_count": 0,
      "outputs": []
    },
    {
      "metadata": {
        "id": "qMa1QB3R-pYJ",
        "colab_type": "code",
        "colab": {}
      },
      "cell_type": "code",
      "source": [
        "def intersect(ls1, ls2):\n",
        "    \"\"\"Returns TRUE if line segments ls1 and ls2 intersect \"\"\"\n",
        "    p1x, p1y, p2x, p2y = ls1[0][0], ls1[0][1], ls1[1][0], ls1[1][1]\n",
        "    q1x, q1y, q2x, q2y = ls2[0][0], ls2[0][1], ls2[1][0], ls2[1][1]\n",
        "    k1, k2, k3 = p1x - p2x, q2y - q1y, p1y - p2y\n",
        "    k4, k5, k6 = q2x - q1x, p1x - q1x, p1y - q1y\n",
        "    d = k1*k2 - k3*k4\n",
        "    if d == 0:\n",
        "        return False\n",
        "    a, b = 1.0*(k2*k5 - k4*k6)/d, 1.0*(k1*k6 - k3*k5)/d\n",
        "    if a>0 and a<1 and b>0 and b<1:\n",
        "        return True\n",
        "    return False"
      ],
      "execution_count": 0,
      "outputs": []
    },
    {
      "metadata": {
        "id": "jDMcnsL1-d5s",
        "colab_type": "code",
        "colab": {}
      },
      "cell_type": "code",
      "source": [
        "def visible(point1, point2, chordList):\n",
        "    \"\"\"Returns True if point1 visible from point2\"\"\"\n",
        "    return all(not(intersect((point1, point2), chord)) for chord in chordList) "
      ],
      "execution_count": 0,
      "outputs": []
    },
    {
      "metadata": {
        "id": "zjGo0PpA_bKp",
        "colab_type": "text"
      },
      "cell_type": "markdown",
      "source": [
        "\n",
        "\"Problem specific functions used in Algorithm A*\""
      ]
    },
    {
      "metadata": {
        "id": "oQLU5UVk-eAP",
        "colab_type": "code",
        "colab": {}
      },
      "cell_type": "code",
      "source": [
        "def getSuccessors(state, states, chordList):\n",
        "    \"\"\"Returns a list of states directly reachable from a given state.\"\"\"\n",
        "    return [v for v in states if v != state and visible(v, state, chordList)]"
      ],
      "execution_count": 0,
      "outputs": []
    },
    {
      "metadata": {
        "id": "JI0ialOE-eC6",
        "colab_type": "code",
        "colab": {}
      },
      "cell_type": "code",
      "source": [
        "def heuristicCost(state, goal):\n",
        "    \"\"\"Returns distance from state to goal in the absence of obstacles\"\"\"\n",
        "    return distance(state, goal)"
      ],
      "execution_count": 0,
      "outputs": []
    },
    {
      "metadata": {
        "id": "jlUOA4ny-eHk",
        "colab_type": "code",
        "colab": {}
      },
      "cell_type": "code",
      "source": [
        "def pathCost(path):\n",
        "    \"\"\"Returns path cost\"\"\"\n",
        "    return sum([distance(path[i],path[i+1]) for i in range(len(path)-1)])"
      ],
      "execution_count": 0,
      "outputs": []
    },
    {
      "metadata": {
        "id": "tDRNV-Js-eR4",
        "colab_type": "code",
        "colab": {}
      },
      "cell_type": "code",
      "source": [
        "def Astar(start, goal, states, chordList):\n",
        "    \"\"\"Returns lowest cost path from \"start\" to \"goal\" using Algorithm A*.\n",
        "    Partial paths from start to goal maintained in a priority queue based on \n",
        "    f(n) = g(n) + h(n) where\n",
        "    - g(n) is the cost of the path from start to state n, and\n",
        "    - h(n) is the heuristic cost of reaching the goal from state n.\n",
        "    Assumes consistent heuristic.    \n",
        "    Uses problem specific functions: heuristicCost, pathCost, getSuccessors.\n",
        "    \"\"\"\n",
        "    priorityQ = [(heuristicCost(start, goal), [start])] # initialize queue\n",
        "    explored = [] # initialize list of explored states\n",
        "    while priorityQ: # paths remain to be explored\n",
        "        path = heapq.heappop(priorityQ)[1] # path with lowest f(n)\n",
        "        state = path[-1] # terminal state of path\n",
        "        explored += [state] # add state to explored\n",
        "        if state == goal: return path # goal found\n",
        "        # Goal not yet found, so extend path\n",
        "        successors = getSuccessors(state, states, chordList) # get successors\n",
        "        for s in successors: # for each successor\n",
        "            if s not in explored: # avoid explored states\n",
        "                newPath = path + [s] # extend path\n",
        "                fValue = pathCost(newPath) + heuristicCost(s, goal) \n",
        "                heapq.heappush(priorityQ, (fValue, newPath)) # add newPath \n",
        "    print(\"Goal not found\") \n",
        "    return"
      ],
      "execution_count": 0,
      "outputs": []
    },
    {
      "metadata": {
        "id": "zdmthhK5-Iss",
        "colab_type": "code",
        "colab": {}
      },
      "cell_type": "code",
      "source": [
        "def saveFigure(polygon, start, goal, path, outDir, filename):\n",
        "    \"\"\"Saves figure: shortest path around convex polygons\"\"\"\n",
        "    fig = plt.figure(figsize=(10, 10))\n",
        "    ax = fig.add_subplot(111, xlim=(0, 1000), ylim=(0, 1000))\n",
        "    for p in polygon:\n",
        "        poly = plt.Polygon(polygon[p], color = \"red\", ec = \"black\")\n",
        "        ax.add_patch(poly)\n",
        "    poly = plt.Polygon(path, ec=\"black\", fill=False, closed=False, linewidth=2)\n",
        "    ax.add_patch(poly)\n",
        "    plt.title(filename)\n",
        "    fig.savefig(outDir+filename+'.png')   # save the figure to file\n",
        "    plt.close(fig)\n",
        "    return"
      ],
      "execution_count": 0,
      "outputs": []
    },
    {
      "metadata": {
        "id": "4KUiB50k-I32",
        "colab_type": "code",
        "colab": {}
      },
      "cell_type": "code",
      "source": [
        "def solve(dataDir, outDir, filename):\n",
        "    \"\"\"Displays lowest cost path from start to goal\n",
        "    Writes solution into file 'robot.out.txt'\n",
        "    \"\"\"\n",
        "    sTime = time()\n",
        "    start, goal, polygon = readProblem(dataDir+filename)\n",
        "    print(\"Input file: %s\" %filename)\n",
        "    print(\"Start: %s, Goal: %s\" %(str(start), str(goal)))\n",
        "    states = getStates(start, goal, polygon)\n",
        "    chordList = generateAllChords(polygon)\n",
        "    path = Astar(start, goal, states, chordList)\n",
        "    runTime = time() - sTime\n",
        "    print(\"Run time: %0.4f seconds\" % runTime)\n",
        "    pCost = pathCost(path)\n",
        "    print(\"Path cost: %0.2f \" % pCost)\n",
        "    ps = ', '.join([str(v) for v in path])\n",
        "    print(\"Path: \" + ps)\n",
        "    saveFigure(polygon, start, goal, path, outDir, filename)\n",
        "    return [filename, pCost, ps]"
      ],
      "execution_count": 0,
      "outputs": []
    },
    {
      "metadata": {
        "id": "_LkXb67C-JDd",
        "colab_type": "code",
        "colab": {
          "base_uri": "https://localhost:8080/",
          "height": 102
        },
        "outputId": "0f309750-1922-4afb-c5c3-bcaa4fd16d45"
      },
      "cell_type": "code",
      "source": [
        "result = []\n",
        "for fn in inputFiles:\n",
        "    result.append(solve(dataDir, outDir, fn))\n",
        "\n",
        "# save results to CSV file\n",
        "result = pd.DataFrame(result, columns=['problem', 'cost', 'path'])\n",
        "result.to_csv(outDir+'HW2Q1results.csv')"
      ],
      "execution_count": 17,
      "outputs": [
        {
          "output_type": "stream",
          "text": [
            "Input file: robot1.txt\n",
            "Start: (69, 111), Goal: (858, 918)\n",
            "Run time: 0.7835 seconds\n",
            "Path cost: 1134.59 \n",
            "Path: (69, 111), (215, 278), (284, 321), (305, 350), (342, 394), (372, 411), (384, 421), (472, 511), (507, 565), (615, 678), (858, 918)\n"
          ],
          "name": "stdout"
        }
      ]
    }
  ]
}